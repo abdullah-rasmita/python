{
 "metadata": {
  "language_info": {
   "codemirror_mode": {
    "name": "ipython",
    "version": 3
   },
   "file_extension": ".py",
   "mimetype": "text/x-python",
   "name": "python",
   "nbconvert_exporter": "python",
   "pygments_lexer": "ipython3",
   "version": "3.8.6-final"
  },
  "orig_nbformat": 2,
  "kernelspec": {
   "name": "python3",
   "display_name": "Python 3",
   "language": "python"
  }
 },
 "nbformat": 4,
 "nbformat_minor": 2,
 "cells": [
  {
   "source": [
    "## **Tutorial 3 to 4**  \n",
    "\n",
    "Objectives:  \n",
    "1. Understand different data types in Python    \n",
    "2. Able to write a program in Python using  \n",
    "    - Control flow  \n",
    "    - Function  \n",
    "    - Class  \n",
    "3. Understand Python module and package  \n",
    "4. Able to read and write csv file using Pandas    \n",
    "5. Understand Openseespy program strucure  \n",
    "6. Optional: Write first program using Openseespy  \n",
    "  \n",
    "Activities  \n",
    "  \n",
    "1. Debugging and fixing error in Python program  \n",
    "2. Writing a simple Python program invoving control flow (try..catch,if..else, for), function, Pandas, and class       \n",
    "3. Creating and calling Python module and package    \n",
    "4. Overview of Opensees and Openseespy  "
   ],
   "cell_type": "markdown",
   "metadata": {}
  },
  {
   "source": [
    "### Activity 1 \n",
    "    \n",
    "Sometimes we want to have interactivity with the user. This can be achieved with Python input() function. The following cell will let you assign value to variable x."
   ],
   "cell_type": "markdown",
   "metadata": {}
  },
  {
   "cell_type": "code",
   "execution_count": 22,
   "metadata": {},
   "outputs": [],
   "source": [
    "x = input('Please input x value')"
   ]
  },
  {
   "source": [
    "Let's check what is the value of x and its type"
   ],
   "cell_type": "markdown",
   "metadata": {}
  },
  {
   "cell_type": "code",
   "execution_count": 23,
   "metadata": {},
   "outputs": [
    {
     "output_type": "stream",
     "name": "stdout",
     "text": [
      "4.5\n<class 'str'>\n"
     ]
    }
   ],
   "source": [
    "print(x)\n",
    "print(type(x))"
   ]
  },
  {
   "source": [
    "Something wrong with the code below"
   ],
   "cell_type": "markdown",
   "metadata": {}
  },
  {
   "cell_type": "code",
   "execution_count": 32,
   "metadata": {},
   "outputs": [
    {
     "output_type": "stream",
     "name": "stdout",
     "text": [
      "Too much\n"
     ]
    }
   ],
   "source": [
    "try:\n",
    "    x = float(x)\n",
    "    if(x**2 <= 2):\n",
    "        print('Acceptable')\n",
    "    else:\n",
    "        print('Too much')\n",
    "except TypeError:\n",
    "    print('Wrong input')\n",
    "except:\n",
    "    print('Something wrong')"
   ]
  },
  {
   "source": [
    "Write a code to check if the input is a number"
   ],
   "cell_type": "markdown",
   "metadata": {}
  },
  {
   "cell_type": "code",
   "execution_count": 36,
   "metadata": {},
   "outputs": [
    {
     "output_type": "stream",
     "name": "stdout",
     "text": [
      "x is a number\n"
     ]
    }
   ],
   "source": [
    "x = input('input anything')\n",
    "try:\n",
    "    x = float(x)\n",
    "    print('x is a number')\n",
    "except:\n",
    "    print('x is not a number')"
   ]
  },
  {
   "source": [
    "When we want to do the same tasks several times, we can use loop. Python has several ways loop can be done. One example is like below."
   ],
   "cell_type": "markdown",
   "metadata": {}
  },
  {
   "cell_type": "code",
   "execution_count": 51,
   "metadata": {},
   "outputs": [
    {
     "output_type": "stream",
     "name": "stdout",
     "text": [
      "1\n1\n2\n3\n5\n8\n13\n21\n34\n55\n"
     ]
    }
   ],
   "source": [
    "# Fibonacci number\n",
    "fibVal0 = 0\n",
    "fibVal = 1\n",
    "# print(list(range(10)))\n",
    "for i in range(10):\n",
    "    print(fibVal)\n",
    "    fibValNow = fibVal\n",
    "    fibVal = fibVal+fibVal0\n",
    "    fibVal0 = fibValNow"
   ]
  },
  {
   "source": [
    "Write a code to print the first 20 positive integer"
   ],
   "cell_type": "markdown",
   "metadata": {}
  },
  {
   "cell_type": "code",
   "execution_count": 55,
   "metadata": {},
   "outputs": [
    {
     "output_type": "stream",
     "name": "stdout",
     "text": [
      "1\n2\n3\n4\n5\n6\n7\n8\n9\n10\n11\n12\n13\n14\n15\n16\n17\n18\n19\n20\n"
     ]
    }
   ],
   "source": [
    "for i in range(20):\n",
    "    print(i+1)"
   ]
  },
  {
   "source": [
    "Let's say we want to do Fibonacci but instead we want to process it again (let's say get the quadratic value of that). It's troublesome to do write the code again and again. So let's create function"
   ],
   "cell_type": "markdown",
   "metadata": {}
  },
  {
   "cell_type": "code",
   "execution_count": 17,
   "metadata": {},
   "outputs": [],
   "source": [
    "#this function return the next 2 fibonacci number given previous two number\n",
    "def fib(fib0=0,fib1=1):\n",
    "    fibNow = fib1\n",
    "    fib1 = fib0+fib1\n",
    "    fib0 = fibNow\n",
    "    return (fib0,fib1)"
   ]
  },
  {
   "cell_type": "code",
   "execution_count": 21,
   "metadata": {},
   "outputs": [
    {
     "output_type": "stream",
     "name": "stdout",
     "text": [
      "1\n1\n4\n9\n25\n64\n169\n441\n1156\n3025\n"
     ]
    }
   ],
   "source": [
    "(fib0,fib1) = fib()\n",
    "for i in range(10):\n",
    "    print(fib0**2)\n",
    "    (fib0,fib1) = fib(fib0,fib1)"
   ]
  },
  {
   "source": [
    "Class is an abstraction of object. An object based on a class will have properties and methods (functions). The code below will create a class myCiylinder. It has 2 properties: diameter and height, and 2 methods: \\__init__ (for creating object from class) and calcVolume (for calculating cylinder volume). "
   ],
   "cell_type": "markdown",
   "metadata": {}
  },
  {
   "cell_type": "code",
   "execution_count": null,
   "metadata": {},
   "outputs": [],
   "source": [
    "class myCylinder:\n",
    "    def __init__(self, width, height):\n",
    "        self.width = width\n",
    "        self.height = height\n",
    "    def calcArea(rectObj):\n",
    "        return rectObj.width*rectObj.height"
   ]
  }
 ]
}