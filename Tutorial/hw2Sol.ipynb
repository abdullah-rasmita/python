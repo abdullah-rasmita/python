{
 "cells": [
  {
   "cell_type": "markdown",
   "metadata": {},
   "source": [
    "## **Homework 2**  \n",
    "This homework has 3 parts:  \n",
    "1. Coding exercise in Jupyter Notebook (60 points)  \n",
    "2. Coding exercise in Python module (.py file) (30 points)  \n",
    "3. Understanding Python packages (10 points)  \n",
    "  \n",
    "In the first part, the proram should be written in Jupyter Notebook. In the second and third part, the program should be written in the Python module file (.py file). The Python modules are then called in the Jupyter Notebook. In the third part, we will explore how to call a .py file from different directory. The  tasks have to be done sequentually from Task 1 in Part 1 to the last task in Part 3.\n",
    "\n",
    "References are given as necessary. Each part starts with a short introduction to the concept followed by the tasks. The points given for each task are based on how difficult the task is based on my opinion.\n",
    "\n",
    "Homework submission guidelines:  \n",
    "  \n",
    "(0) The following files(folders) should be copied to your folder (abdulJalil) from Tutorial folder:  \n",
    "- hw2.ipynb file  \n",
    "- pyTut.py file  \n",
    "- data folder \n",
    " \n",
    "(1) The following files should be submitted  \n",
    "- abdulJalil/hw2Sol.ipynb  \n",
    "This file is like this file but with your answer for all the tasks (like hw1Sol.ipynb compared to hw1.ipynb).  \n",
    "- abdulJalil/hw2p2.py  \n",
    "This file is the Python module you create for the Part 2. \n",
    "- abdulJalil/myPackage/hw2p3.py   \n",
    "This file is the Python module you create for Part 3.  \n",
    "- abdulJalil/myPackage/\\__init__.py  \n",
    "This file is needed to make a package in Part 3.   \n",
    "- abdulJalil/data/hw2p1Output.csv  \n",
    "This file is the output csv file produced by code in Part 1.     \n",
    "- abdulJalil/data/hw2p2Output.csv  \n",
    "This file is the output csv file produced by code in Part 2.  \n",
    "\n",
    "(2) Put these files in your Python Github repository (forked from my Python Github repository).  \n",
    "\n",
    "(3) Make a pull request and inform me once this is done. Once the pull request is approved by me, the submission process is done. \n",
    "\n",
    "(4) Submission deadline is one day before Tutorial 3 (i.e. if Tutorial 3 is on 17/01/2020, HW2 should be submitted by 16/01/2020) "
   ]
  },
  {
   "cell_type": "markdown",
   "metadata": {},
   "source": [
    "### Part 1. Coding exercise in Jupyter Notebook (60 points)  \n",
    "** Introduction **\n",
    "\n",
    "The objective of this part is to use the following concepts:  \n",
    "- Data type  \n",
    "- Control flow  \n",
    "- Function  \n",
    "- Class\n",
    "- Pandas read_csv and to_csv\n",
    "\n",
    "to write a program in Python. This is accomplished by writing codes to complete some tasks. These tasks should be completed in hw2Sol.ipynb (i.e., a copy of this Notebook)"
   ]
  },
  {
   "source": [
    "** Task 1 ** (2 points)  \n",
    "  \n",
    "Sometimes we want to have interactivity with the user. This can be achieved with Python input() function. Run the following cell to assign value '1' to variable x."
   ],
   "cell_type": "markdown",
   "metadata": {}
  },
  {
   "cell_type": "code",
   "execution_count": 1,
   "metadata": {},
   "outputs": [],
   "source": [
    "x = input('Please input x value')"
   ]
  },
  {
   "source": [
    "** Task 2 ** (3 points)  \n",
    "  \n",
    "Check the value and the type of variable x by running print(x) and print(type(x)) in the cell below.  \n",
    "  \n",
    "References:  \n",
    "https://www.w3schools.com/python/python_datatypes.asp  \n"
   ],
   "cell_type": "markdown",
   "metadata": {}
  },
  {
   "cell_type": "code",
   "execution_count": 2,
   "metadata": {},
   "outputs": [
    {
     "output_type": "stream",
     "name": "stdout",
     "text": [
      "1\n<class 'str'>\n"
     ]
    }
   ],
   "source": [
    "print(x)\n",
    "print(type(x))"
   ]
  },
  {
   "source": [
    "** Task 3 ** (5 points)  \n",
    "  \n",
    "The code below supposed to do the following  \n",
    "- If x < 2 and x > -2, print: 'Acceptable'  \n",
    "- If x <= -2, print: 'Too small'  \n",
    "- If x >= 2, print: 'Too big'  \n",
    "\n",
    "However, it has some syntax errors. Please fix it and run it again. Hint: x has to have a correct type, indentation has to be correct.  \n",
    "\n",
    "References:  \n",
    "https://www.w3schools.com/python/python_syntax.asp  \n",
    "https://www.w3schools.com/python/python_conditions.asp   \n",
    "https://www.w3schools.com/python/python_casting.asp   \n"
   ],
   "cell_type": "markdown",
   "metadata": {}
  },
  {
   "cell_type": "code",
   "execution_count": 3,
   "metadata": {},
   "outputs": [
    {
     "output_type": "stream",
     "name": "stdout",
     "text": [
      "Acceptable\n"
     ]
    }
   ],
   "source": [
    "x = float(x)\n",
    "if(x<2 and x>-2):\n",
    "    print('Acceptable')\n",
    "else:\n",
    "    if(x<=-2):\n",
    "        print('Too small')\n",
    "    else:\n",
    "        print('Too big')"
   ]
  },
  {
   "source": [
    "** Task 4 ** (10 points)  \n",
    "  \n",
    "When we want to do the same tasks several times, we can use loop. Python has several ways loop can be done. Using loop, write a code to do task in Task 3 for each number in a list below. Write your code after the list definition and run the cell.  \n",
    "\n",
    "References:  \n",
    "https://www.w3schools.com/python/python_lists.asp  \n",
    "https://www.w3schools.com/python/python_while_loops.asp  \n",
    "https://www.w3schools.com/python/python_for_loops.asp"
   ],
   "cell_type": "markdown",
   "metadata": {}
  },
  {
   "cell_type": "code",
   "execution_count": 4,
   "metadata": {},
   "outputs": [
    {
     "output_type": "stream",
     "name": "stdout",
     "text": [
      "Acceptable\nToo small\nToo big\nAcceptable\nToo big\n"
     ]
    }
   ],
   "source": [
    "xList = [0,-5,2,0.6,5]\n",
    "for x in xList:\n",
    "    if(x<2 and x>-2):\n",
    "        print('Acceptable')\n",
    "    else:\n",
    "        if(x<=-2):\n",
    "            print('Too small')\n",
    "        else:\n",
    "            print('Too big')"
   ]
  },
  {
   "source": [
    "** Task 5 ** (5 points)\n",
    "\n",
    "Function operates on variables and can produce an output and any other side effect (such as print words to screen). Write a function named isOk(x) which implement task in Task 3 in the cell below. Then Run isOk(1) in the same cell to check if isOk function works properly.  \n",
    "\n",
    "References:  \n",
    "https://www.w3schools.com/python/python_functions.asp  "
   ],
   "cell_type": "markdown",
   "metadata": {}
  },
  {
   "cell_type": "code",
   "execution_count": 5,
   "metadata": {},
   "outputs": [
    {
     "output_type": "stream",
     "name": "stdout",
     "text": [
      "Acceptable\n"
     ]
    }
   ],
   "source": [
    "def isOk(x):\n",
    "    x = float(x)\n",
    "    if(x<2 and x>-2):\n",
    "        print('Acceptable')\n",
    "    else:\n",
    "        if(x<=-2):\n",
    "            print('Too small')\n",
    "        else:\n",
    "            print('Too big')\n",
    "isOk(1)"
   ]
  },
  {
   "source": [
    "** Task 6 ** (5 points)\n",
    "\n",
    "We can create a function without name. This is called lambda function. One of the use of lambda function is as an input to another function which accepts function as variable. Modify the lambda function in the code below so it will calculate the user's input to the power of 4 (i.e., if the user input is 3 it will output 81) \n",
    "\n",
    "References:  \n",
    "https://www.w3schools.com/python/python_lambda.asp"
   ],
   "cell_type": "markdown",
   "metadata": {}
  },
  {
   "cell_type": "code",
   "execution_count": 6,
   "metadata": {},
   "outputs": [
    {
     "output_type": "stream",
     "name": "stdout",
     "text": [
      "81.0\n"
     ]
    }
   ],
   "source": [
    "def myQuad(func):\n",
    "    x = input('Please input a number')\n",
    "    print(func(float(x))**2)\n",
    "myQuad(lambda x: x**2)"
   ]
  },
  {
   "source": [
    "** Task 7 ** (10 points)  \n",
    "  \n",
    "Class is an abstraction of object. An object based on a class will have properties and methods (functions). The code below will create a class myRectangle. It has 2 properties: width and height, and 2 methods: \\__init__ (for creating object from class) and calcArea (for calculating rectangle area).  \n",
    "\n",
    "Using this class, calculate the area of a rectangle with width = 2 and height = 5 and then print the result to the screen. Write your code below the class definition in the cell below.  \n",
    "\n",
    "References:  \n",
    "https://www.w3schools.com/python/python_classes.asp  "
   ],
   "cell_type": "markdown",
   "metadata": {}
  },
  {
   "cell_type": "code",
   "execution_count": 7,
   "metadata": {},
   "outputs": [
    {
     "output_type": "stream",
     "name": "stdout",
     "text": [
      "10\n"
     ]
    }
   ],
   "source": [
    "class myRectangle:\n",
    "    def __init__(self, width, height):\n",
    "        self.width = width\n",
    "        self.height = height\n",
    "    def calcArea(rectObj):\n",
    "        return rectObj.width*rectObj.height\n",
    "rect1 = myRectangle(width=2,height=5)\n",
    "print(rect1.calcArea())"
   ]
  },
  {
   "source": [
    "** Task 8 ** (20 points)\n",
    "\n",
    "This task is similar to the Tutorial 2. Do:  \n",
    "1. Import pandas and pyTut.py. For this you have to copy pyTut.py to your folder (i.e., abdulJalil/pyTut.py)  \n",
    "2. Using read_csv function in pandas, read data/hw2Input.csv into a DataFrame named df.  \n",
    "3. Print the snapshot of the content using head() method of the DataFrame  \n",
    "4. Run df2 = linFit(df) function from pyTut with df as the input. This function will create a plot of the data and a linear fitting. It will also return a new DataFrame which contain the fitting result together with the data.  \n",
    "5. Write the new DataFrame (df2) into a new csv file called data/hw2p1Output.csv  \n",
    "\n",
    "References:  \n",
    "https://www.w3schools.com/python/pandas_csv.asp  \n",
    "Tut2.ipynb  \n",
    "https://pandas.pydata.org/pandas-docs/stable/reference/api/pandas.DataFrame.to_csv.html  "
   ],
   "cell_type": "markdown",
   "metadata": {}
  },
  {
   "cell_type": "code",
   "execution_count": 1,
   "metadata": {},
   "outputs": [
    {
     "output_type": "stream",
     "name": "stdout",
     "text": [
      "           x          y\n0 -10.000000 -45.936264\n1  -9.899497 -38.533479\n2  -9.798995 -40.554548\n3  -9.698492 -36.998151\n4  -9.597990 -37.302266\nslope: 5.19\noffset: 10.78\n"
     ]
    },
    {
     "output_type": "display_data",
     "data": {
      "text/plain": "<Figure size 273.6x216 with 1 Axes>",
      "image/svg+xml": "<?xml version=\"1.0\" encoding=\"utf-8\" standalone=\"no\"?>\r\n<!DOCTYPE svg PUBLIC \"-//W3C//DTD SVG 1.1//EN\"\r\n  \"http://www.w3.org/Graphics/SVG/1.1/DTD/svg11.dtd\">\r\n<!-- Created with matplotlib (https://matplotlib.org/) -->\r\n<svg height=\"253.861563pt\" version=\"1.1\" viewBox=\"0 0 325.5325 253.861563\" width=\"325.5325pt\" xmlns=\"http://www.w3.org/2000/svg\" xmlns:xlink=\"http://www.w3.org/1999/xlink\">\r\n <metadata>\r\n  <rdf:RDF xmlns:cc=\"http://creativecommons.org/ns#\" xmlns:dc=\"http://purl.org/dc/elements/1.1/\" xmlns:rdf=\"http://www.w3.org/1999/02/22-rdf-syntax-ns#\">\r\n   <cc:Work>\r\n    <dc:type rdf:resource=\"http://purl.org/dc/dcmitype/StillImage\"/>\r\n    <dc:date>2021-01-12T18:15:50.791606</dc:date>\r\n    <dc:format>image/svg+xml</dc:format>\r\n    <dc:creator>\r\n     <cc:Agent>\r\n      <dc:title>Matplotlib v3.3.3, https://matplotlib.org/</dc:title>\r\n     </cc:Agent>\r\n    </dc:creator>\r\n   </cc:Work>\r\n  </rdf:RDF>\r\n </metadata>\r\n <defs>\r\n  <style type=\"text/css\">*{stroke-linecap:butt;stroke-linejoin:round;}</style>\r\n </defs>\r\n <g id=\"figure_1\">\r\n  <g id=\"patch_1\">\r\n   <path d=\"M 0 253.861563 \r\nL 325.5325 253.861563 \r\nL 325.5325 0 \r\nL 0 0 \r\nz\r\n\" style=\"fill:none;\"/>\r\n  </g>\r\n  <g id=\"axes_1\">\r\n   <g id=\"patch_2\">\r\n    <path d=\"M 44.7325 223.2 \r\nL 318.3325 223.2 \r\nL 318.3325 7.2 \r\nL 44.7325 7.2 \r\nz\r\n\" style=\"fill:#ffffff;\"/>\r\n   </g>\r\n   <g id=\"matplotlib.axis_1\">\r\n    <g id=\"xtick_1\">\r\n     <g id=\"line2d_1\">\r\n      <defs>\r\n       <path d=\"M 0 0 \r\nL 0 3.5 \r\n\" id=\"m39e8227186\" style=\"stroke:#000000;stroke-width:0.8;\"/>\r\n      </defs>\r\n      <g>\r\n       <use style=\"stroke:#000000;stroke-width:0.8;\" x=\"57.168864\" xlink:href=\"#m39e8227186\" y=\"223.2\"/>\r\n      </g>\r\n     </g>\r\n     <g id=\"text_1\">\r\n      <!-- −10 -->\r\n      <g transform=\"translate(41.902614 243.084063)scale(0.18 -0.18)\">\r\n       <defs>\r\n        <path d=\"M 52.828125 31.203125 \r\nL 5.5625 31.203125 \r\nL 5.5625 39.40625 \r\nL 52.828125 39.40625 \r\nz\r\n\" id=\"ArialMT-8722\"/>\r\n        <path d=\"M 37.25 0 \r\nL 28.46875 0 \r\nL 28.46875 56 \r\nQ 25.296875 52.984375 20.140625 49.953125 \r\nQ 14.984375 46.921875 10.890625 45.40625 \r\nL 10.890625 53.90625 \r\nQ 18.265625 57.375 23.78125 62.296875 \r\nQ 29.296875 67.234375 31.59375 71.875 \r\nL 37.25 71.875 \r\nz\r\n\" id=\"ArialMT-49\"/>\r\n        <path d=\"M 4.15625 35.296875 \r\nQ 4.15625 48 6.765625 55.734375 \r\nQ 9.375 63.484375 14.515625 67.671875 \r\nQ 19.671875 71.875 27.484375 71.875 \r\nQ 33.25 71.875 37.59375 69.546875 \r\nQ 41.9375 67.234375 44.765625 62.859375 \r\nQ 47.609375 58.5 49.21875 52.21875 \r\nQ 50.828125 45.953125 50.828125 35.296875 \r\nQ 50.828125 22.703125 48.234375 14.96875 \r\nQ 45.65625 7.234375 40.5 3 \r\nQ 35.359375 -1.21875 27.484375 -1.21875 \r\nQ 17.140625 -1.21875 11.234375 6.203125 \r\nQ 4.15625 15.140625 4.15625 35.296875 \r\nz\r\nM 13.1875 35.296875 \r\nQ 13.1875 17.671875 17.3125 11.828125 \r\nQ 21.4375 6 27.484375 6 \r\nQ 33.546875 6 37.671875 11.859375 \r\nQ 41.796875 17.71875 41.796875 35.296875 \r\nQ 41.796875 52.984375 37.671875 58.78125 \r\nQ 33.546875 64.59375 27.390625 64.59375 \r\nQ 21.34375 64.59375 17.71875 59.46875 \r\nQ 13.1875 52.9375 13.1875 35.296875 \r\nz\r\n\" id=\"ArialMT-48\"/>\r\n       </defs>\r\n       <use xlink:href=\"#ArialMT-8722\"/>\r\n       <use x=\"58.398438\" xlink:href=\"#ArialMT-49\"/>\r\n       <use x=\"114.013672\" xlink:href=\"#ArialMT-48\"/>\r\n      </g>\r\n     </g>\r\n    </g>\r\n    <g id=\"xtick_2\">\r\n     <g id=\"line2d_2\">\r\n      <g>\r\n       <use style=\"stroke:#000000;stroke-width:0.8;\" x=\"119.350682\" xlink:href=\"#m39e8227186\" y=\"223.2\"/>\r\n      </g>\r\n     </g>\r\n     <g id=\"text_2\">\r\n      <!-- −5 -->\r\n      <g transform=\"translate(109.089276 243.084063)scale(0.18 -0.18)\">\r\n       <defs>\r\n        <path d=\"M 4.15625 18.75 \r\nL 13.375 19.53125 \r\nQ 14.40625 12.796875 18.140625 9.390625 \r\nQ 21.875 6 27.15625 6 \r\nQ 33.5 6 37.890625 10.78125 \r\nQ 42.28125 15.578125 42.28125 23.484375 \r\nQ 42.28125 31 38.0625 35.34375 \r\nQ 33.84375 39.703125 27 39.703125 \r\nQ 22.75 39.703125 19.328125 37.765625 \r\nQ 15.921875 35.84375 13.96875 32.765625 \r\nL 5.71875 33.84375 \r\nL 12.640625 70.609375 \r\nL 48.25 70.609375 \r\nL 48.25 62.203125 \r\nL 19.671875 62.203125 \r\nL 15.828125 42.96875 \r\nQ 22.265625 47.46875 29.34375 47.46875 \r\nQ 38.71875 47.46875 45.15625 40.96875 \r\nQ 51.609375 34.46875 51.609375 24.265625 \r\nQ 51.609375 14.546875 45.953125 7.46875 \r\nQ 39.0625 -1.21875 27.15625 -1.21875 \r\nQ 17.390625 -1.21875 11.203125 4.25 \r\nQ 5.03125 9.71875 4.15625 18.75 \r\nz\r\n\" id=\"ArialMT-53\"/>\r\n       </defs>\r\n       <use xlink:href=\"#ArialMT-8722\"/>\r\n       <use x=\"58.398438\" xlink:href=\"#ArialMT-53\"/>\r\n      </g>\r\n     </g>\r\n    </g>\r\n    <g id=\"xtick_3\">\r\n     <g id=\"line2d_3\">\r\n      <g>\r\n       <use style=\"stroke:#000000;stroke-width:0.8;\" x=\"181.5325\" xlink:href=\"#m39e8227186\" y=\"223.2\"/>\r\n      </g>\r\n     </g>\r\n     <g id=\"text_3\">\r\n      <!-- 0 -->\r\n      <g transform=\"translate(176.527656 243.084063)scale(0.18 -0.18)\">\r\n       <use xlink:href=\"#ArialMT-48\"/>\r\n      </g>\r\n     </g>\r\n    </g>\r\n    <g id=\"xtick_4\">\r\n     <g id=\"line2d_4\">\r\n      <g>\r\n       <use style=\"stroke:#000000;stroke-width:0.8;\" x=\"243.714318\" xlink:href=\"#m39e8227186\" y=\"223.2\"/>\r\n      </g>\r\n     </g>\r\n     <g id=\"text_4\">\r\n      <!-- 5 -->\r\n      <g transform=\"translate(238.709474 243.084063)scale(0.18 -0.18)\">\r\n       <use xlink:href=\"#ArialMT-53\"/>\r\n      </g>\r\n     </g>\r\n    </g>\r\n    <g id=\"xtick_5\">\r\n     <g id=\"line2d_5\">\r\n      <g>\r\n       <use style=\"stroke:#000000;stroke-width:0.8;\" x=\"305.896136\" xlink:href=\"#m39e8227186\" y=\"223.2\"/>\r\n      </g>\r\n     </g>\r\n     <g id=\"text_5\">\r\n      <!-- 10 -->\r\n      <g transform=\"translate(295.886449 243.084063)scale(0.18 -0.18)\">\r\n       <use xlink:href=\"#ArialMT-49\"/>\r\n       <use x=\"55.615234\" xlink:href=\"#ArialMT-48\"/>\r\n      </g>\r\n     </g>\r\n    </g>\r\n   </g>\r\n   <g id=\"matplotlib.axis_2\">\r\n    <g id=\"ytick_1\">\r\n     <g id=\"line2d_6\">\r\n      <defs>\r\n       <path d=\"M 0 0 \r\nL -3.5 0 \r\n\" id=\"m43afb7144f\" style=\"stroke:#000000;stroke-width:0.8;\"/>\r\n      </defs>\r\n      <g>\r\n       <use style=\"stroke:#000000;stroke-width:0.8;\" x=\"44.7325\" xlink:href=\"#m43afb7144f\" y=\"220.591333\"/>\r\n      </g>\r\n     </g>\r\n     <g id=\"text_6\">\r\n      <!-- −50 -->\r\n      <g transform=\"translate(7.2 227.033364)scale(0.18 -0.18)\">\r\n       <use xlink:href=\"#ArialMT-8722\"/>\r\n       <use x=\"58.398438\" xlink:href=\"#ArialMT-53\"/>\r\n       <use x=\"114.013672\" xlink:href=\"#ArialMT-48\"/>\r\n      </g>\r\n     </g>\r\n    </g>\r\n    <g id=\"ytick_2\">\r\n     <g id=\"line2d_7\">\r\n      <g>\r\n       <use style=\"stroke:#000000;stroke-width:0.8;\" x=\"44.7325\" xlink:href=\"#m43afb7144f\" y=\"176.238583\"/>\r\n      </g>\r\n     </g>\r\n     <g id=\"text_7\">\r\n      <!-- −25 -->\r\n      <g transform=\"translate(7.2 182.680614)scale(0.18 -0.18)\">\r\n       <defs>\r\n        <path d=\"M 50.34375 8.453125 \r\nL 50.34375 0 \r\nL 3.03125 0 \r\nQ 2.9375 3.171875 4.046875 6.109375 \r\nQ 5.859375 10.9375 9.828125 15.625 \r\nQ 13.8125 20.3125 21.34375 26.46875 \r\nQ 33.015625 36.03125 37.109375 41.625 \r\nQ 41.21875 47.21875 41.21875 52.203125 \r\nQ 41.21875 57.421875 37.46875 61 \r\nQ 33.734375 64.59375 27.734375 64.59375 \r\nQ 21.390625 64.59375 17.578125 60.78125 \r\nQ 13.765625 56.984375 13.71875 50.25 \r\nL 4.6875 51.171875 \r\nQ 5.609375 61.28125 11.65625 66.578125 \r\nQ 17.71875 71.875 27.9375 71.875 \r\nQ 38.234375 71.875 44.234375 66.15625 \r\nQ 50.25 60.453125 50.25 52 \r\nQ 50.25 47.703125 48.484375 43.546875 \r\nQ 46.734375 39.40625 42.65625 34.8125 \r\nQ 38.578125 30.21875 29.109375 22.21875 \r\nQ 21.1875 15.578125 18.9375 13.203125 \r\nQ 16.703125 10.84375 15.234375 8.453125 \r\nz\r\n\" id=\"ArialMT-50\"/>\r\n       </defs>\r\n       <use xlink:href=\"#ArialMT-8722\"/>\r\n       <use x=\"58.398438\" xlink:href=\"#ArialMT-50\"/>\r\n       <use x=\"114.013672\" xlink:href=\"#ArialMT-53\"/>\r\n      </g>\r\n     </g>\r\n    </g>\r\n    <g id=\"ytick_3\">\r\n     <g id=\"line2d_8\">\r\n      <g>\r\n       <use style=\"stroke:#000000;stroke-width:0.8;\" x=\"44.7325\" xlink:href=\"#m43afb7144f\" y=\"131.885832\"/>\r\n      </g>\r\n     </g>\r\n     <g id=\"text_8\">\r\n      <!-- 0 -->\r\n      <g transform=\"translate(27.722813 138.327864)scale(0.18 -0.18)\">\r\n       <use xlink:href=\"#ArialMT-48\"/>\r\n      </g>\r\n     </g>\r\n    </g>\r\n    <g id=\"ytick_4\">\r\n     <g id=\"line2d_9\">\r\n      <g>\r\n       <use style=\"stroke:#000000;stroke-width:0.8;\" x=\"44.7325\" xlink:href=\"#m43afb7144f\" y=\"87.533082\"/>\r\n      </g>\r\n     </g>\r\n     <g id=\"text_9\">\r\n      <!-- 25 -->\r\n      <g transform=\"translate(17.713125 93.975114)scale(0.18 -0.18)\">\r\n       <use xlink:href=\"#ArialMT-50\"/>\r\n       <use x=\"55.615234\" xlink:href=\"#ArialMT-53\"/>\r\n      </g>\r\n     </g>\r\n    </g>\r\n    <g id=\"ytick_5\">\r\n     <g id=\"line2d_10\">\r\n      <g>\r\n       <use style=\"stroke:#000000;stroke-width:0.8;\" x=\"44.7325\" xlink:href=\"#m43afb7144f\" y=\"43.180332\"/>\r\n      </g>\r\n     </g>\r\n     <g id=\"text_10\">\r\n      <!-- 50 -->\r\n      <g transform=\"translate(17.713125 49.622364)scale(0.18 -0.18)\">\r\n       <use xlink:href=\"#ArialMT-53\"/>\r\n       <use x=\"55.615234\" xlink:href=\"#ArialMT-48\"/>\r\n      </g>\r\n     </g>\r\n    </g>\r\n   </g>\r\n   <g id=\"line2d_11\">\r\n    <defs>\r\n     <path d=\"M 0 3 \r\nC 0.795609 3 1.55874 2.683901 2.12132 2.12132 \r\nC 2.683901 1.55874 3 0.795609 3 0 \r\nC 3 -0.795609 2.683901 -1.55874 2.12132 -2.12132 \r\nC 1.55874 -2.683901 0.795609 -3 0 -3 \r\nC -0.795609 -3 -1.55874 -2.683901 -2.12132 -2.12132 \r\nC -2.683901 -1.55874 -3 -0.795609 -3 0 \r\nC -3 0.795609 -2.683901 1.55874 -2.12132 2.12132 \r\nC -1.55874 2.683901 -0.795609 3 0 3 \r\nz\r\n\" id=\"m073f84babb\" style=\"stroke:#000000;\"/>\r\n    </defs>\r\n    <g clip-path=\"url(#pa6b07cacaf)\">\r\n     <use style=\"stroke:#000000;\" x=\"57.168864\" xlink:href=\"#m073f84babb\" y=\"213.381818\"/>\r\n     <use style=\"stroke:#000000;\" x=\"58.418749\" xlink:href=\"#m073f84babb\" y=\"200.248463\"/>\r\n     <use style=\"stroke:#000000;\" x=\"59.668635\" xlink:href=\"#m073f84babb\" y=\"203.834061\"/>\r\n     <use style=\"stroke:#000000;\" x=\"60.918521\" xlink:href=\"#m073f84babb\" y=\"197.524623\"/>\r\n     <use style=\"stroke:#000000;\" x=\"62.168407\" xlink:href=\"#m073f84babb\" y=\"198.064155\"/>\r\n     <use style=\"stroke:#000000;\" x=\"63.418293\" xlink:href=\"#m073f84babb\" y=\"203.67841\"/>\r\n     <use style=\"stroke:#000000;\" x=\"64.668178\" xlink:href=\"#m073f84babb\" y=\"200.267941\"/>\r\n     <use style=\"stroke:#000000;\" x=\"65.918064\" xlink:href=\"#m073f84babb\" y=\"202.579485\"/>\r\n     <use style=\"stroke:#000000;\" x=\"67.16795\" xlink:href=\"#m073f84babb\" y=\"194.134605\"/>\r\n     <use style=\"stroke:#000000;\" x=\"68.417836\" xlink:href=\"#m073f84babb\" y=\"188.603558\"/>\r\n     <use style=\"stroke:#000000;\" x=\"69.667722\" xlink:href=\"#m073f84babb\" y=\"188.398576\"/>\r\n     <use style=\"stroke:#000000;\" x=\"70.917607\" xlink:href=\"#m073f84babb\" y=\"196.697852\"/>\r\n     <use style=\"stroke:#000000;\" x=\"72.167493\" xlink:href=\"#m073f84babb\" y=\"199.836536\"/>\r\n     <use style=\"stroke:#000000;\" x=\"73.417379\" xlink:href=\"#m073f84babb\" y=\"191.856461\"/>\r\n     <use style=\"stroke:#000000;\" x=\"74.667265\" xlink:href=\"#m073f84babb\" y=\"200.843512\"/>\r\n     <use style=\"stroke:#000000;\" x=\"75.917151\" xlink:href=\"#m073f84babb\" y=\"192.53597\"/>\r\n     <use style=\"stroke:#000000;\" x=\"77.167036\" xlink:href=\"#m073f84babb\" y=\"186.031347\"/>\r\n     <use style=\"stroke:#000000;\" x=\"78.416922\" xlink:href=\"#m073f84babb\" y=\"187.857535\"/>\r\n     <use style=\"stroke:#000000;\" x=\"79.666808\" xlink:href=\"#m073f84babb\" y=\"184.430598\"/>\r\n     <use style=\"stroke:#000000;\" x=\"80.916694\" xlink:href=\"#m073f84babb\" y=\"187.074198\"/>\r\n     <use style=\"stroke:#000000;\" x=\"82.166579\" xlink:href=\"#m073f84babb\" y=\"183.355988\"/>\r\n     <use style=\"stroke:#000000;\" x=\"83.416465\" xlink:href=\"#m073f84babb\" y=\"193.750138\"/>\r\n     <use style=\"stroke:#000000;\" x=\"84.666351\" xlink:href=\"#m073f84babb\" y=\"185.952143\"/>\r\n     <use style=\"stroke:#000000;\" x=\"85.916237\" xlink:href=\"#m073f84babb\" y=\"186.152717\"/>\r\n     <use style=\"stroke:#000000;\" x=\"87.166123\" xlink:href=\"#m073f84babb\" y=\"186.169695\"/>\r\n     <use style=\"stroke:#000000;\" x=\"88.416008\" xlink:href=\"#m073f84babb\" y=\"186.904295\"/>\r\n     <use style=\"stroke:#000000;\" x=\"89.665894\" xlink:href=\"#m073f84babb\" y=\"176.195095\"/>\r\n     <use style=\"stroke:#000000;\" x=\"90.91578\" xlink:href=\"#m073f84babb\" y=\"179.113488\"/>\r\n     <use style=\"stroke:#000000;\" x=\"92.165666\" xlink:href=\"#m073f84babb\" y=\"183.940313\"/>\r\n     <use style=\"stroke:#000000;\" x=\"93.415552\" xlink:href=\"#m073f84babb\" y=\"184.315273\"/>\r\n     <use style=\"stroke:#000000;\" x=\"94.665437\" xlink:href=\"#m073f84babb\" y=\"181.656243\"/>\r\n     <use style=\"stroke:#000000;\" x=\"95.915323\" xlink:href=\"#m073f84babb\" y=\"179.367014\"/>\r\n     <use style=\"stroke:#000000;\" x=\"97.165209\" xlink:href=\"#m073f84babb\" y=\"177.684949\"/>\r\n     <use style=\"stroke:#000000;\" x=\"98.415095\" xlink:href=\"#m073f84babb\" y=\"172.237721\"/>\r\n     <use style=\"stroke:#000000;\" x=\"99.664981\" xlink:href=\"#m073f84babb\" y=\"165.679616\"/>\r\n     <use style=\"stroke:#000000;\" x=\"100.914866\" xlink:href=\"#m073f84babb\" y=\"179.986776\"/>\r\n     <use style=\"stroke:#000000;\" x=\"102.164752\" xlink:href=\"#m073f84babb\" y=\"171.807323\"/>\r\n     <use style=\"stroke:#000000;\" x=\"103.414638\" xlink:href=\"#m073f84babb\" y=\"169.904936\"/>\r\n     <use style=\"stroke:#000000;\" x=\"104.664524\" xlink:href=\"#m073f84babb\" y=\"175.532357\"/>\r\n     <use style=\"stroke:#000000;\" x=\"105.91441\" xlink:href=\"#m073f84babb\" y=\"161.631482\"/>\r\n     <use style=\"stroke:#000000;\" x=\"107.164295\" xlink:href=\"#m073f84babb\" y=\"161.581291\"/>\r\n     <use style=\"stroke:#000000;\" x=\"108.414181\" xlink:href=\"#m073f84babb\" y=\"162.787994\"/>\r\n     <use style=\"stroke:#000000;\" x=\"109.664067\" xlink:href=\"#m073f84babb\" y=\"158.474363\"/>\r\n     <use style=\"stroke:#000000;\" x=\"110.913953\" xlink:href=\"#m073f84babb\" y=\"161.124812\"/>\r\n     <use style=\"stroke:#000000;\" x=\"112.163839\" xlink:href=\"#m073f84babb\" y=\"161.287679\"/>\r\n     <use style=\"stroke:#000000;\" x=\"113.413724\" xlink:href=\"#m073f84babb\" y=\"157.895431\"/>\r\n     <use style=\"stroke:#000000;\" x=\"114.66361\" xlink:href=\"#m073f84babb\" y=\"160.033211\"/>\r\n     <use style=\"stroke:#000000;\" x=\"115.913496\" xlink:href=\"#m073f84babb\" y=\"158.227202\"/>\r\n     <use style=\"stroke:#000000;\" x=\"117.163382\" xlink:href=\"#m073f84babb\" y=\"165.806476\"/>\r\n     <use style=\"stroke:#000000;\" x=\"118.413267\" xlink:href=\"#m073f84babb\" y=\"157.586801\"/>\r\n     <use style=\"stroke:#000000;\" x=\"119.663153\" xlink:href=\"#m073f84babb\" y=\"150.546575\"/>\r\n     <use style=\"stroke:#000000;\" x=\"120.913039\" xlink:href=\"#m073f84babb\" y=\"153.927863\"/>\r\n     <use style=\"stroke:#000000;\" x=\"122.162925\" xlink:href=\"#m073f84babb\" y=\"164.393828\"/>\r\n     <use style=\"stroke:#000000;\" x=\"123.412811\" xlink:href=\"#m073f84babb\" y=\"157.255472\"/>\r\n     <use style=\"stroke:#000000;\" x=\"124.662696\" xlink:href=\"#m073f84babb\" y=\"159.358122\"/>\r\n     <use style=\"stroke:#000000;\" x=\"125.912582\" xlink:href=\"#m073f84babb\" y=\"150.035639\"/>\r\n     <use style=\"stroke:#000000;\" x=\"127.162468\" xlink:href=\"#m073f84babb\" y=\"146.057634\"/>\r\n     <use style=\"stroke:#000000;\" x=\"128.412354\" xlink:href=\"#m073f84babb\" y=\"154.12362\"/>\r\n     <use style=\"stroke:#000000;\" x=\"129.66224\" xlink:href=\"#m073f84babb\" y=\"144.673428\"/>\r\n     <use style=\"stroke:#000000;\" x=\"130.912125\" xlink:href=\"#m073f84babb\" y=\"142.525965\"/>\r\n     <use style=\"stroke:#000000;\" x=\"132.162011\" xlink:href=\"#m073f84babb\" y=\"141.452786\"/>\r\n     <use style=\"stroke:#000000;\" x=\"133.411897\" xlink:href=\"#m073f84babb\" y=\"146.483661\"/>\r\n     <use style=\"stroke:#000000;\" x=\"134.661783\" xlink:href=\"#m073f84babb\" y=\"153.160891\"/>\r\n     <use style=\"stroke:#000000;\" x=\"135.911669\" xlink:href=\"#m073f84babb\" y=\"149.354143\"/>\r\n     <use style=\"stroke:#000000;\" x=\"137.161554\" xlink:href=\"#m073f84babb\" y=\"154.43745\"/>\r\n     <use style=\"stroke:#000000;\" x=\"138.41144\" xlink:href=\"#m073f84babb\" y=\"138.126343\"/>\r\n     <use style=\"stroke:#000000;\" x=\"139.661326\" xlink:href=\"#m073f84babb\" y=\"142.50106\"/>\r\n     <use style=\"stroke:#000000;\" x=\"140.911212\" xlink:href=\"#m073f84babb\" y=\"146.131305\"/>\r\n     <use style=\"stroke:#000000;\" x=\"142.161098\" xlink:href=\"#m073f84babb\" y=\"150.356251\"/>\r\n     <use style=\"stroke:#000000;\" x=\"143.410983\" xlink:href=\"#m073f84babb\" y=\"143.74463\"/>\r\n     <use style=\"stroke:#000000;\" x=\"144.660869\" xlink:href=\"#m073f84babb\" y=\"133.633898\"/>\r\n     <use style=\"stroke:#000000;\" x=\"145.910755\" xlink:href=\"#m073f84babb\" y=\"147.315639\"/>\r\n     <use style=\"stroke:#000000;\" x=\"147.160641\" xlink:href=\"#m073f84babb\" y=\"132.329799\"/>\r\n     <use style=\"stroke:#000000;\" x=\"148.410526\" xlink:href=\"#m073f84babb\" y=\"145.516176\"/>\r\n     <use style=\"stroke:#000000;\" x=\"149.660412\" xlink:href=\"#m073f84babb\" y=\"132.267344\"/>\r\n     <use style=\"stroke:#000000;\" x=\"150.910298\" xlink:href=\"#m073f84babb\" y=\"142.668469\"/>\r\n     <use style=\"stroke:#000000;\" x=\"152.160184\" xlink:href=\"#m073f84babb\" y=\"134.083045\"/>\r\n     <use style=\"stroke:#000000;\" x=\"153.41007\" xlink:href=\"#m073f84babb\" y=\"135.514647\"/>\r\n     <use style=\"stroke:#000000;\" x=\"154.659955\" xlink:href=\"#m073f84babb\" y=\"138.764231\"/>\r\n     <use style=\"stroke:#000000;\" x=\"155.909841\" xlink:href=\"#m073f84babb\" y=\"125.502114\"/>\r\n     <use style=\"stroke:#000000;\" x=\"157.159727\" xlink:href=\"#m073f84babb\" y=\"126.544845\"/>\r\n     <use style=\"stroke:#000000;\" x=\"158.409613\" xlink:href=\"#m073f84babb\" y=\"132.427486\"/>\r\n     <use style=\"stroke:#000000;\" x=\"159.659499\" xlink:href=\"#m073f84babb\" y=\"129.961683\"/>\r\n     <use style=\"stroke:#000000;\" x=\"160.909384\" xlink:href=\"#m073f84babb\" y=\"124.325062\"/>\r\n     <use style=\"stroke:#000000;\" x=\"162.15927\" xlink:href=\"#m073f84babb\" y=\"130.787306\"/>\r\n     <use style=\"stroke:#000000;\" x=\"163.409156\" xlink:href=\"#m073f84babb\" y=\"125.677948\"/>\r\n     <use style=\"stroke:#000000;\" x=\"164.659042\" xlink:href=\"#m073f84babb\" y=\"129.532703\"/>\r\n     <use style=\"stroke:#000000;\" x=\"165.908928\" xlink:href=\"#m073f84babb\" y=\"121.713939\"/>\r\n     <use style=\"stroke:#000000;\" x=\"167.158813\" xlink:href=\"#m073f84babb\" y=\"121.182683\"/>\r\n     <use style=\"stroke:#000000;\" x=\"168.408699\" xlink:href=\"#m073f84babb\" y=\"125.414647\"/>\r\n     <use style=\"stroke:#000000;\" x=\"169.658585\" xlink:href=\"#m073f84babb\" y=\"130.064181\"/>\r\n     <use style=\"stroke:#000000;\" x=\"170.908471\" xlink:href=\"#m073f84babb\" y=\"116.240933\"/>\r\n     <use style=\"stroke:#000000;\" x=\"172.158357\" xlink:href=\"#m073f84babb\" y=\"128.194271\"/>\r\n     <use style=\"stroke:#000000;\" x=\"173.408242\" xlink:href=\"#m073f84babb\" y=\"112.622934\"/>\r\n     <use style=\"stroke:#000000;\" x=\"174.658128\" xlink:href=\"#m073f84babb\" y=\"120.18289\"/>\r\n     <use style=\"stroke:#000000;\" x=\"175.908014\" xlink:href=\"#m073f84babb\" y=\"111.021126\"/>\r\n     <use style=\"stroke:#000000;\" x=\"177.1579\" xlink:href=\"#m073f84babb\" y=\"118.062898\"/>\r\n     <use style=\"stroke:#000000;\" x=\"178.407786\" xlink:href=\"#m073f84babb\" y=\"114.230526\"/>\r\n     <use style=\"stroke:#000000;\" x=\"179.657671\" xlink:href=\"#m073f84babb\" y=\"113.214218\"/>\r\n     <use style=\"stroke:#000000;\" x=\"180.907557\" xlink:href=\"#m073f84babb\" y=\"117.538521\"/>\r\n     <use style=\"stroke:#000000;\" x=\"182.157443\" xlink:href=\"#m073f84babb\" y=\"108.087659\"/>\r\n     <use style=\"stroke:#000000;\" x=\"183.407329\" xlink:href=\"#m073f84babb\" y=\"117.892866\"/>\r\n     <use style=\"stroke:#000000;\" x=\"184.657214\" xlink:href=\"#m073f84babb\" y=\"115.269774\"/>\r\n     <use style=\"stroke:#000000;\" x=\"185.9071\" xlink:href=\"#m073f84babb\" y=\"115.488623\"/>\r\n     <use style=\"stroke:#000000;\" x=\"187.156986\" xlink:href=\"#m073f84babb\" y=\"104.128104\"/>\r\n     <use style=\"stroke:#000000;\" x=\"188.406872\" xlink:href=\"#m073f84babb\" y=\"103.572596\"/>\r\n     <use style=\"stroke:#000000;\" x=\"189.656758\" xlink:href=\"#m073f84babb\" y=\"103.366868\"/>\r\n     <use style=\"stroke:#000000;\" x=\"190.906643\" xlink:href=\"#m073f84babb\" y=\"113.454301\"/>\r\n     <use style=\"stroke:#000000;\" x=\"192.156529\" xlink:href=\"#m073f84babb\" y=\"107.067479\"/>\r\n     <use style=\"stroke:#000000;\" x=\"193.406415\" xlink:href=\"#m073f84babb\" y=\"101.36169\"/>\r\n     <use style=\"stroke:#000000;\" x=\"194.656301\" xlink:href=\"#m073f84babb\" y=\"98.530898\"/>\r\n     <use style=\"stroke:#000000;\" x=\"195.906187\" xlink:href=\"#m073f84babb\" y=\"99.40591\"/>\r\n     <use style=\"stroke:#000000;\" x=\"197.156072\" xlink:href=\"#m073f84babb\" y=\"96.195749\"/>\r\n     <use style=\"stroke:#000000;\" x=\"198.405958\" xlink:href=\"#m073f84babb\" y=\"103.019247\"/>\r\n     <use style=\"stroke:#000000;\" x=\"199.655844\" xlink:href=\"#m073f84babb\" y=\"92.352206\"/>\r\n     <use style=\"stroke:#000000;\" x=\"200.90573\" xlink:href=\"#m073f84babb\" y=\"93.242652\"/>\r\n     <use style=\"stroke:#000000;\" x=\"202.155616\" xlink:href=\"#m073f84babb\" y=\"103.070858\"/>\r\n     <use style=\"stroke:#000000;\" x=\"203.405501\" xlink:href=\"#m073f84babb\" y=\"95.342463\"/>\r\n     <use style=\"stroke:#000000;\" x=\"204.655387\" xlink:href=\"#m073f84babb\" y=\"92.506093\"/>\r\n     <use style=\"stroke:#000000;\" x=\"205.905273\" xlink:href=\"#m073f84babb\" y=\"93.105427\"/>\r\n     <use style=\"stroke:#000000;\" x=\"207.155159\" xlink:href=\"#m073f84babb\" y=\"97.049461\"/>\r\n     <use style=\"stroke:#000000;\" x=\"208.405045\" xlink:href=\"#m073f84babb\" y=\"88.966277\"/>\r\n     <use style=\"stroke:#000000;\" x=\"209.65493\" xlink:href=\"#m073f84babb\" y=\"84.950693\"/>\r\n     <use style=\"stroke:#000000;\" x=\"210.904816\" xlink:href=\"#m073f84babb\" y=\"83.638294\"/>\r\n     <use style=\"stroke:#000000;\" x=\"212.154702\" xlink:href=\"#m073f84babb\" y=\"84.777221\"/>\r\n     <use style=\"stroke:#000000;\" x=\"213.404588\" xlink:href=\"#m073f84babb\" y=\"85.163627\"/>\r\n     <use style=\"stroke:#000000;\" x=\"214.654474\" xlink:href=\"#m073f84babb\" y=\"84.143976\"/>\r\n     <use style=\"stroke:#000000;\" x=\"215.904359\" xlink:href=\"#m073f84babb\" y=\"90.327954\"/>\r\n     <use style=\"stroke:#000000;\" x=\"217.154245\" xlink:href=\"#m073f84babb\" y=\"94.907608\"/>\r\n     <use style=\"stroke:#000000;\" x=\"218.404131\" xlink:href=\"#m073f84babb\" y=\"93.497915\"/>\r\n     <use style=\"stroke:#000000;\" x=\"219.654017\" xlink:href=\"#m073f84babb\" y=\"79.76812\"/>\r\n     <use style=\"stroke:#000000;\" x=\"220.903902\" xlink:href=\"#m073f84babb\" y=\"78.305164\"/>\r\n     <use style=\"stroke:#000000;\" x=\"222.153788\" xlink:href=\"#m073f84babb\" y=\"82.299862\"/>\r\n     <use style=\"stroke:#000000;\" x=\"223.403674\" xlink:href=\"#m073f84babb\" y=\"82.712958\"/>\r\n     <use style=\"stroke:#000000;\" x=\"224.65356\" xlink:href=\"#m073f84babb\" y=\"74.106776\"/>\r\n     <use style=\"stroke:#000000;\" x=\"225.903446\" xlink:href=\"#m073f84babb\" y=\"87.087018\"/>\r\n     <use style=\"stroke:#000000;\" x=\"227.153331\" xlink:href=\"#m073f84babb\" y=\"87.475462\"/>\r\n     <use style=\"stroke:#000000;\" x=\"228.403217\" xlink:href=\"#m073f84babb\" y=\"85.944467\"/>\r\n     <use style=\"stroke:#000000;\" x=\"229.653103\" xlink:href=\"#m073f84babb\" y=\"77.864174\"/>\r\n     <use style=\"stroke:#000000;\" x=\"230.902989\" xlink:href=\"#m073f84babb\" y=\"67.269235\"/>\r\n     <use style=\"stroke:#000000;\" x=\"232.152875\" xlink:href=\"#m073f84babb\" y=\"83.796985\"/>\r\n     <use style=\"stroke:#000000;\" x=\"233.40276\" xlink:href=\"#m073f84babb\" y=\"70.406788\"/>\r\n     <use style=\"stroke:#000000;\" x=\"234.652646\" xlink:href=\"#m073f84babb\" y=\"71.882981\"/>\r\n     <use style=\"stroke:#000000;\" x=\"235.902532\" xlink:href=\"#m073f84babb\" y=\"68.07977\"/>\r\n     <use style=\"stroke:#000000;\" x=\"237.152418\" xlink:href=\"#m073f84babb\" y=\"73.587904\"/>\r\n     <use style=\"stroke:#000000;\" x=\"238.402304\" xlink:href=\"#m073f84babb\" y=\"77.783729\"/>\r\n     <use style=\"stroke:#000000;\" x=\"239.652189\" xlink:href=\"#m073f84babb\" y=\"77.447582\"/>\r\n     <use style=\"stroke:#000000;\" x=\"240.902075\" xlink:href=\"#m073f84babb\" y=\"69.428774\"/>\r\n     <use style=\"stroke:#000000;\" x=\"242.151961\" xlink:href=\"#m073f84babb\" y=\"75.704698\"/>\r\n     <use style=\"stroke:#000000;\" x=\"243.401847\" xlink:href=\"#m073f84babb\" y=\"59.548644\"/>\r\n     <use style=\"stroke:#000000;\" x=\"244.651733\" xlink:href=\"#m073f84babb\" y=\"72.34875\"/>\r\n     <use style=\"stroke:#000000;\" x=\"245.901618\" xlink:href=\"#m073f84babb\" y=\"56.875339\"/>\r\n     <use style=\"stroke:#000000;\" x=\"247.151504\" xlink:href=\"#m073f84babb\" y=\"58.51083\"/>\r\n     <use style=\"stroke:#000000;\" x=\"248.40139\" xlink:href=\"#m073f84babb\" y=\"58.380396\"/>\r\n     <use style=\"stroke:#000000;\" x=\"249.651276\" xlink:href=\"#m073f84babb\" y=\"66.15725\"/>\r\n     <use style=\"stroke:#000000;\" x=\"250.901161\" xlink:href=\"#m073f84babb\" y=\"63.135717\"/>\r\n     <use style=\"stroke:#000000;\" x=\"252.151047\" xlink:href=\"#m073f84babb\" y=\"61.916262\"/>\r\n     <use style=\"stroke:#000000;\" x=\"253.400933\" xlink:href=\"#m073f84babb\" y=\"62.10892\"/>\r\n     <use style=\"stroke:#000000;\" x=\"254.650819\" xlink:href=\"#m073f84babb\" y=\"66.428595\"/>\r\n     <use style=\"stroke:#000000;\" x=\"255.900705\" xlink:href=\"#m073f84babb\" y=\"57.801922\"/>\r\n     <use style=\"stroke:#000000;\" x=\"257.15059\" xlink:href=\"#m073f84babb\" y=\"60.226844\"/>\r\n     <use style=\"stroke:#000000;\" x=\"258.400476\" xlink:href=\"#m073f84babb\" y=\"53.593116\"/>\r\n     <use style=\"stroke:#000000;\" x=\"259.650362\" xlink:href=\"#m073f84babb\" y=\"63.330644\"/>\r\n     <use style=\"stroke:#000000;\" x=\"260.900248\" xlink:href=\"#m073f84babb\" y=\"59.150693\"/>\r\n     <use style=\"stroke:#000000;\" x=\"262.150134\" xlink:href=\"#m073f84babb\" y=\"49.399989\"/>\r\n     <use style=\"stroke:#000000;\" x=\"263.400019\" xlink:href=\"#m073f84babb\" y=\"44.204287\"/>\r\n     <use style=\"stroke:#000000;\" x=\"264.649905\" xlink:href=\"#m073f84babb\" y=\"44.220878\"/>\r\n     <use style=\"stroke:#000000;\" x=\"265.899791\" xlink:href=\"#m073f84babb\" y=\"43.888516\"/>\r\n     <use style=\"stroke:#000000;\" x=\"267.149677\" xlink:href=\"#m073f84babb\" y=\"51.971649\"/>\r\n     <use style=\"stroke:#000000;\" x=\"268.399563\" xlink:href=\"#m073f84babb\" y=\"39.478883\"/>\r\n     <use style=\"stroke:#000000;\" x=\"269.649448\" xlink:href=\"#m073f84babb\" y=\"55.592489\"/>\r\n     <use style=\"stroke:#000000;\" x=\"270.899334\" xlink:href=\"#m073f84babb\" y=\"47.808807\"/>\r\n     <use style=\"stroke:#000000;\" x=\"272.14922\" xlink:href=\"#m073f84babb\" y=\"50.822836\"/>\r\n     <use style=\"stroke:#000000;\" x=\"273.399106\" xlink:href=\"#m073f84babb\" y=\"44.59265\"/>\r\n     <use style=\"stroke:#000000;\" x=\"274.648992\" xlink:href=\"#m073f84babb\" y=\"52.255397\"/>\r\n     <use style=\"stroke:#000000;\" x=\"275.898877\" xlink:href=\"#m073f84babb\" y=\"47.632927\"/>\r\n     <use style=\"stroke:#000000;\" x=\"277.148763\" xlink:href=\"#m073f84babb\" y=\"46.470499\"/>\r\n     <use style=\"stroke:#000000;\" x=\"278.398649\" xlink:href=\"#m073f84babb\" y=\"48.486855\"/>\r\n     <use style=\"stroke:#000000;\" x=\"279.648535\" xlink:href=\"#m073f84babb\" y=\"46.807697\"/>\r\n     <use style=\"stroke:#000000;\" x=\"280.898421\" xlink:href=\"#m073f84babb\" y=\"47.569191\"/>\r\n     <use style=\"stroke:#000000;\" x=\"282.148306\" xlink:href=\"#m073f84babb\" y=\"40.642157\"/>\r\n     <use style=\"stroke:#000000;\" x=\"283.398192\" xlink:href=\"#m073f84babb\" y=\"42.618391\"/>\r\n     <use style=\"stroke:#000000;\" x=\"284.648078\" xlink:href=\"#m073f84babb\" y=\"32.080114\"/>\r\n     <use style=\"stroke:#000000;\" x=\"285.897964\" xlink:href=\"#m073f84babb\" y=\"37.177898\"/>\r\n     <use style=\"stroke:#000000;\" x=\"287.147849\" xlink:href=\"#m073f84babb\" y=\"26.759853\"/>\r\n     <use style=\"stroke:#000000;\" x=\"288.397735\" xlink:href=\"#m073f84babb\" y=\"34.320072\"/>\r\n     <use style=\"stroke:#000000;\" x=\"289.647621\" xlink:href=\"#m073f84babb\" y=\"31.62108\"/>\r\n     <use style=\"stroke:#000000;\" x=\"290.897507\" xlink:href=\"#m073f84babb\" y=\"23.147605\"/>\r\n     <use style=\"stroke:#000000;\" x=\"292.147393\" xlink:href=\"#m073f84babb\" y=\"36.756843\"/>\r\n     <use style=\"stroke:#000000;\" x=\"293.397278\" xlink:href=\"#m073f84babb\" y=\"36.75013\"/>\r\n     <use style=\"stroke:#000000;\" x=\"294.647164\" xlink:href=\"#m073f84babb\" y=\"22.132672\"/>\r\n     <use style=\"stroke:#000000;\" x=\"295.89705\" xlink:href=\"#m073f84babb\" y=\"21.409876\"/>\r\n     <use style=\"stroke:#000000;\" x=\"297.146936\" xlink:href=\"#m073f84babb\" y=\"25.780516\"/>\r\n     <use style=\"stroke:#000000;\" x=\"298.396822\" xlink:href=\"#m073f84babb\" y=\"17.735843\"/>\r\n     <use style=\"stroke:#000000;\" x=\"299.646707\" xlink:href=\"#m073f84babb\" y=\"21.167011\"/>\r\n     <use style=\"stroke:#000000;\" x=\"300.896593\" xlink:href=\"#m073f84babb\" y=\"18.127946\"/>\r\n     <use style=\"stroke:#000000;\" x=\"302.146479\" xlink:href=\"#m073f84babb\" y=\"19.902574\"/>\r\n     <use style=\"stroke:#000000;\" x=\"303.396365\" xlink:href=\"#m073f84babb\" y=\"17.018182\"/>\r\n     <use style=\"stroke:#000000;\" x=\"304.646251\" xlink:href=\"#m073f84babb\" y=\"22.015565\"/>\r\n     <use style=\"stroke:#000000;\" x=\"305.896136\" xlink:href=\"#m073f84babb\" y=\"18.557096\"/>\r\n    </g>\r\n   </g>\r\n   <g id=\"line2d_12\">\r\n    <path clip-path=\"url(#pa6b07cacaf)\" d=\"M 57.168864 204.903235 \r\nL 305.896136 20.601577 \r\nL 305.896136 20.601577 \r\n\" style=\"fill:none;stroke:#ff0000;stroke-linecap:square;stroke-width:1.5;\"/>\r\n   </g>\r\n   <g id=\"patch_3\">\r\n    <path d=\"M 44.7325 223.2 \r\nL 44.7325 7.2 \r\n\" style=\"fill:none;stroke:#000000;stroke-linecap:square;stroke-linejoin:miter;stroke-width:2;\"/>\r\n   </g>\r\n   <g id=\"patch_4\">\r\n    <path d=\"M 318.3325 223.2 \r\nL 318.3325 7.2 \r\n\" style=\"fill:none;stroke:#000000;stroke-linecap:square;stroke-linejoin:miter;stroke-width:2;\"/>\r\n   </g>\r\n   <g id=\"patch_5\">\r\n    <path d=\"M 44.7325 223.2 \r\nL 318.3325 223.2 \r\n\" style=\"fill:none;stroke:#000000;stroke-linecap:square;stroke-linejoin:miter;stroke-width:2;\"/>\r\n   </g>\r\n   <g id=\"patch_6\">\r\n    <path d=\"M 44.7325 7.2 \r\nL 318.3325 7.2 \r\n\" style=\"fill:none;stroke:#000000;stroke-linecap:square;stroke-linejoin:miter;stroke-width:2;\"/>\r\n   </g>\r\n  </g>\r\n </g>\r\n <defs>\r\n  <clipPath id=\"pa6b07cacaf\">\r\n   <rect height=\"216\" width=\"273.6\" x=\"44.7325\" y=\"7.2\"/>\r\n  </clipPath>\r\n </defs>\r\n</svg>\r\n",
      "image/png": "[encoded data removed]"
     },
     "metadata": {
      "needs_background": "light"
     }
    }
   ],
   "source": [
    "import pandas as pd\n",
    "import pyTut as pt\n",
    "df = pd.read_csv('data/hw2Input.csv')\n",
    "print(df.head())\n",
    "df2 = pt.linFit(df)\n",
    "df2.to_csv('data/hw2p1Output.csv',index=False)"
   ]
  },
  {
   "source": [
    "### Part 2. Coding exercise in Python module (.py file) (30 points)  \n",
    "** Introduction **\n",
    "\n",
    "While we can do almost everything (creating class and function, calling them, etc) in Jupyter Notebook as above, sometimes we want to be able to call a function in different file. This cannot be done if the function is inside Jupyter Notebook. It can only be done if the function is inside a Python module (.py file)."
   ],
   "cell_type": "markdown",
   "metadata": {}
  },
  {
   "source": [
    "** Task 1 ** (15 points)\n",
    "\n",
    "1. Export this Jupyter Notebook to a Python module (Python script). In Jupyter Notebook in VSCode, this can be done by choosing \"Export as\" (in the upper control beside 'Trusted') and then choose 'Python Script'.   \n",
    "2. Save the Python Script as 'hw2p2.py'.  \n",
    "3. Remove all the lines other than the ones for isOk function definition.  \n",
    "4. Import the created module to this Notebook (import hw2p2 as hw2p2).  \n",
    "5. In the cell below, call the isOk function in the module with input equal to 1. (hw2p2.isOk(1))  \n",
    "  \n",
    "Note: If no.1 fails just try to close the VSCode and open again. If it still fails, then create the isOk function in new file and save the file as hw2p2.py.  \n",
    "  \n",
    "References:  \n",
    "https://www.w3schools.com/python/python_modules.asp  "
   ],
   "cell_type": "markdown",
   "metadata": {}
  },
  {
   "cell_type": "code",
   "execution_count": 2,
   "metadata": {},
   "outputs": [
    {
     "output_type": "stream",
     "name": "stdout",
     "text": [
      "Acceptable\n"
     ]
    }
   ],
   "source": [
    "import hw2p2\n",
    "hw2p2.isOk(1)"
   ]
  },
  {
   "source": [
    "** Task 2 ** (15 points)\n",
    "\n",
    "1. In the hw2p2.py file create a function named twice(df) with df is a DataFrame. It should return another DataFrame with the second column value is twice the input DataFrame's second column value. Save the changes.  \n",
    "2. Close this notebook and open it again.  \n",
    "3. In the cell below:\n",
    "    - Import pandas  \n",
    "    - from hw2p2 import twice as tw\n",
    "    - Read data/hw2Input.csv into a DataFrame named df. Print the snapshot.  \n",
    "    - Run df2 = tw(df). Print the snapshot  \n",
    "    - Write the output dataframe (df2) to a new file named 'data/hw2p2Output.csv'  \n",
    "\n",
    "References:  \n",
    "See add1 function in pyTut.py and see the example in Tut2.ipynb"
   ],
   "cell_type": "markdown",
   "metadata": {}
  },
  {
   "cell_type": "code",
   "execution_count": 1,
   "metadata": {},
   "outputs": [
    {
     "output_type": "stream",
     "name": "stdout",
     "text": [
      "           x          y\n0 -10.000000 -45.936264\n1  -9.899497 -38.533479\n2  -9.798995 -40.554548\n3  -9.698492 -36.998151\n4  -9.597990 -37.302266\n<bound method NDFrame.head of              x           y\n0   -10.000000  -91.872528\n1    -9.899497  -77.066958\n2    -9.798995  -81.109096\n3    -9.698492  -73.996303\n4    -9.597990  -74.604532\n..         ...         ...\n195   9.597990  128.242202\n196   9.698492  126.241618\n197   9.798995  129.493268\n198   9.899497  123.859589\n199  10.000000  127.758410\n\n[200 rows x 2 columns]>\n"
     ]
    }
   ],
   "source": [
    "import pandas as pd\n",
    "from hw2p2 import twice as tw\n",
    "df = pd.read_csv('data/hw2Input.csv')\n",
    "print(df.head())\n",
    "df2 = tw(df)\n",
    "print(df2.head)\n",
    "df2.to_csv('data/hw2p2Output.csv',index=False)"
   ]
  },
  {
   "source": [
    "### Part 3. Understanding Python packages (10 points)  \n",
    "** Introduction **\n",
    "\n",
    "Module is good. However it has a limitation. It can only be called by the file in the same folder. In order to be able to call function in a file in a different folder, we have to create package. Package basically is a folder with  \\__init__.py file.  \n",
    "\n",
    "References:  \n",
    "https://docs.python.org/3/tutorial/modules.html#packages  "
   ],
   "cell_type": "markdown",
   "metadata": {}
  },
  {
   "source": [
    "** Task 1 ** (10 points)\n",
    "\n",
    "1. Copy the hw2p2.py to a new folder named myPackage and rename it to hw2p3.py (myPackage/hw2p3.py)  \n",
    "2. Create a new Python module inside myPackage folder and named it as \\__init__.py  \n",
    "3. Import the created module to this Notebook (import myPackage.hw2p3 as hw2p3)\n",
    "4. In the cell below, call the isOk function in the hw2p3 module with input equal to 1. (hw2p3.isOk(1))"
   ],
   "cell_type": "markdown",
   "metadata": {}
  },
  {
   "cell_type": "code",
   "execution_count": 2,
   "metadata": {},
   "outputs": [
    {
     "output_type": "stream",
     "name": "stdout",
     "text": [
      "Acceptable\n"
     ]
    }
   ],
   "source": [
    "import myPackage.hw2p3 as hw2p3\n",
    "hw2p3.isOk(1)"
   ]
  },
  {
   "cell_type": "code",
   "execution_count": null,
   "metadata": {},
   "outputs": [],
   "source": []
  }
 ],
 "metadata": {
  "kernelspec": {
   "name": "python3",
   "display_name": "Python 3.8.6 64-bit ('belajar1': conda)",
   "metadata": {
    "interpreter": {
     "hash": "e9642468312b1071a486abe936eca51c329201d3d5a581a93e43b3d86c51e82f"
    }
   }
  },
  "language_info": {
   "codemirror_mode": {
    "name": "ipython",
    "version": 3
   },
   "file_extension": ".py",
   "mimetype": "text/x-python",
   "name": "python",
   "nbconvert_exporter": "python",
   "pygments_lexer": "ipython3",
   "version": "3.8.6-final"
  },
  "orig_nbformat": 2
 },
 "nbformat": 4,
 "nbformat_minor": 2
}